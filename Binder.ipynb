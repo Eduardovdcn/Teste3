{
  "nbformat": 4,
  "nbformat_minor": 0,
  "metadata": {
    "colab": {
      "provenance": []
    },
    "kernelspec": {
      "name": "python3",
      "display_name": "Python 3"
    },
    "language_info": {
      "name": "python"
    },
    "widgets": {
      "application/vnd.jupyter.widget-state+json": {
        "c1477b9ed4014d1ea14dc9d97056069d": {
          "model_module": "@jupyter-widgets/controls",
          "model_name": "VBoxModel",
          "model_module_version": "1.5.0",
          "state": {
            "_dom_classes": [],
            "_model_module": "@jupyter-widgets/controls",
            "_model_module_version": "1.5.0",
            "_model_name": "VBoxModel",
            "_view_count": null,
            "_view_module": "@jupyter-widgets/controls",
            "_view_module_version": "1.5.0",
            "_view_name": "VBoxView",
            "box_style": "",
            "children": [
              "IPY_MODEL_609d8e96efd14b90aae575185b2439e7",
              "IPY_MODEL_1932edaa4c1541768601bc6d659b4087",
              "IPY_MODEL_b1fb344d7503460985006157115fd8ef",
              "IPY_MODEL_b348b70ddd5d40ecb36017aaede4a9d2",
              "IPY_MODEL_7b5247e127384bf780819421ee5e5e48"
            ],
            "layout": "IPY_MODEL_fcd5550c344847f79d18389c07136506"
          }
        },
        "609d8e96efd14b90aae575185b2439e7": {
          "model_module": "@jupyter-widgets/controls",
          "model_name": "LabelModel",
          "model_module_version": "1.5.0",
          "state": {
            "_dom_classes": [],
            "_model_module": "@jupyter-widgets/controls",
            "_model_module_version": "1.5.0",
            "_model_name": "LabelModel",
            "_view_count": null,
            "_view_module": "@jupyter-widgets/controls",
            "_view_module_version": "1.5.0",
            "_view_name": "LabelView",
            "description": "",
            "description_tooltip": null,
            "layout": "IPY_MODEL_b36ee1a14991468ba3cea9c52a59814c",
            "placeholder": "​",
            "style": "IPY_MODEL_223f62d18a14462eb66db9884ac8d6fd",
            "value": "Selecione seu pet!"
          }
        },
        "1932edaa4c1541768601bc6d659b4087": {
          "model_module": "@jupyter-widgets/controls",
          "model_name": "FileUploadModel",
          "model_module_version": "1.5.0",
          "state": {
            "_counter": 2,
            "_dom_classes": [],
            "_model_module": "@jupyter-widgets/controls",
            "_model_module_version": "1.5.0",
            "_model_name": "FileUploadModel",
            "_view_count": null,
            "_view_module": "@jupyter-widgets/controls",
            "_view_module_version": "1.5.0",
            "_view_name": "FileUploadView",
            "accept": "",
            "button_style": "",
            "data": [
              null
            ],
            "description": "Upload",
            "description_tooltip": null,
            "disabled": false,
            "error": "",
            "icon": "upload",
            "layout": "IPY_MODEL_72d42deabab641d6bb33fe1aa8a30bbc",
            "metadata": [
              {
                "name": "dog_test_ingles.jpg",
                "type": "image/jpeg",
                "size": 4209,
                "lastModified": 1682685705083
              }
            ],
            "multiple": false,
            "style": "IPY_MODEL_e37fb820dc4340a3ba3d3135b24846e4"
          }
        },
        "b1fb344d7503460985006157115fd8ef": {
          "model_module": "@jupyter-widgets/output",
          "model_name": "OutputModel",
          "model_module_version": "1.0.0",
          "state": {
            "_dom_classes": [],
            "_model_module": "@jupyter-widgets/output",
            "_model_module_version": "1.0.0",
            "_model_name": "OutputModel",
            "_view_count": null,
            "_view_module": "@jupyter-widgets/output",
            "_view_module_version": "1.0.0",
            "_view_name": "OutputView",
            "layout": "IPY_MODEL_d6d496432f0144518c07da32bea160cf",
            "msg_id": "",
            "outputs": [
              {
                "output_type": "display_data",
                "data": {
                  "text/plain": "<PIL.Image.Image image mode=RGB size=128x85>",
                  "image/png": "iVBORw0KGgoAAAANSUhEUgAAAIAAAABVCAIAAAAOr3sAAAA5J0lEQVR4nK29W7MkSXIe9rl7RF7qcq59ne7p2ZndnV0sF1xA4EUAKNEkkeIDaXyhSQ+SyfTX9KIHXYxmIk2CSQ/QAyERhJbAAlisZrCzO9ee7unLuVdVZka4ux4is051T89sz0I5bWfq1MmsynSP8HD//HMPOnv+2E3dDG7kCjeHEwwwnw4AAAgkJMxMIiAByIkAIg7ETEQAys9yGAiAv3jA1N3cFKZwB9zNAHe/vtDdzczdHQwY3MndNfd9R24Ez2kQCdmcQySSfhiIqKqqq8vzbn0VhVK36TdX56en6nm+nO0t97q+N9WmaZjZ3Ilj+R4mpL7XNIQglSmbuptZTnlQze7q7kRELMQMsIMd5CAiBhGRgMVBxAImInFiIiYRB4MYxERkDiLaFU4RqBMFIvKdvxEYbi+ctnMZMxMzUbkbcmKfRFbO3Gpr/IIi9K303R0ON4y/Gtzh5u72ogKKDgB3OLm72fjPtZxnZgDMNMZARA6oppyzm5EEM728uNisV/PFrK2bs9PTvuuWe3s5pRCCu7tq+Wp1tTRYzimTu4mVr9Gck5mOCgDKU3MIxAEgB7mDiMAMMyeCE7mAdh7/9Y5QVAMigAAiOEAviPFaAQTmMhaIBUQOJsDM4a/6YndM0t95MQq9jHO4wc0d2FHAeKGZuhPgqoCbZbPkZgzATU2JxN25qoPQMGQDpaGD29B3V5fnjx99fuf2rSj89PHjfugPDw6HbhPnc6jmNJAlwOFGbmRmfUcMksoM5upuMIUbzKZB484OJXZyAsAGZ2IggwQsMAORO4FeIYlXHuVzQzEcXkQNAkAMGL0k0lFLJGVagdnBAIGI3IAyHg0AM5chzHDAyeFucBAcANyKxXNTN4UrzNxhzoTx8+BuambqBndjJsBc1XKGm8GZyM1JyLK5ZRE2S0xsOcHMdTh9/jwGySltVpth6JumsZzqqs79YMymCXkNlK90hlekBDDMAHKDmzBxmeLu7kZExAS4uwLkcHKUR6JiJhlkBJDTJM7X0oGHcXgCZaATqMwEH3UyWnYiYhYUywO4g5gA9jI9QUX62Bp9M4f5aOW3qwjczd3cspvB1VXNsqk7mIiKiYObW9asZu5udVWRW8opp4GIYEpuDuTEDsppCLFyzaDAROvNSof+9OT54f5S05D6rgoyb+q6rtyUzNfrjtzrmN095wxYYC5zPw+9WRmaxkwEJwYcpgAc7kTlz0zjouXko/R5nMHsbu4M992pQNOxK3p3ByEUU1tmPb14TTlvlMt4MIidCCgrEny0WtdXpZQABGFXLUuC286iUkwqHDA3A6yMOFMtJtWp3IsxzOAEz6mHmWkyVTcT8qJSc4pVPa4ipkyByPtu060uCc6AaRbCwd6SQP1qVb6+rmsmyjkBYAlu2g89EzM5IxKRu5G7u5WRBhjMwewArNy6ofgXELgRiNzgSo5iTt1R5sdrzYBiAGDGoz3aSr+YhLL+kDATsY3LOoOKMzCZbh9/qCoRmXvKWaDlO2y7qhdnAFYm87WRNcvZtrYL8HHmuQEY+kQwzWqWNSUKQuPHgoXL6LGcE5Fm1ZyHvq9iNMury4uj/T1N6fz8YjZrq6oOMWpWJQcLxrlP4MDCIQiyWR7dP1wroFhrJaBM/VER4wgFiGBcXAU386I9d3pxQL9C+nB3D6SZ4O42Ds7ivICcBAQ4WISIQDCQbQVH5iBmFmI3K9OI3KAZcAER3HJ2t2LOsioRiQgxm5M5mTMg5jBzMzNNnhVEgBOLEbFEsKtmtSEQRabJaHUIbsly1sgURVJ2ZZh2hiENV2lY5X7TucU4I+fHn3xWVdElrNabEELxRDWSiLgZQLGK7pYV7Fb8uOI4wsjHKcswoFgcslH2xXcYByzYCUYkRsgEISdyIudi04l516hMFxERAvlkgmBm0zlggDFOgeLwlCV1GgdepAZ3r2ItIm65KCcNnZkFYYKnYcg5T6KXnJRRuZV7L0uIu7EbwS33HaBMcA7GwSN5hLqC3MxcvY5Vd7l26qOgW6+FJHfB6sqrGCJ3m5XbAM8Bxu6WbFBsLk+G1XqGxfNPPqvq6t4b98womzFzSkmCRAnkxVO4NqTuPk5tn8b45G6DqSy0bgZyd4IZmNyY2N2NYAQmGGE0EEUFXzUPwksmabIU1zbs+s6IynJV9IIQTFVV09ATyo05M1VVrXkY+i4PQ6wqVx1yqqvaxQjoUpYgDCLAYGNc5uZmqtk0EcxJEGrPFqghMJxyVkt5XjcUwuXlWWtGZuv1KkrQfg2LyIlz1s0ghrQZBLxabdZdvlqvWGxNiaTZO7z18GxVVZWptlGbppm3tcPhSq689Zd3Ys9X2A33rVma/jddZLvR5Ose4cVfx1VzkvGLinE366f3xkU5CDs5RgFms1wFYUIMAuXUdyLiJjklpIFZSIJmIxYiIi8rsAIGN80ZeYCbOahyQ6AYJAQCqXmsawVCXeczM7X1au0pby7OCR7bxtyGy01/eeVDTl2/WvenF5vzq82nT556kNVq1bZtSj998ODB3t7erRvHsRKn0CeFacUOyzAFs78US74kHcBRJkeJlsZFhK6l9M0DMWbeuo7EY1RQltlyhoiMsQicd1TiqiUYxBTMMsNUhz6ZZs1ZmJiQ+o6IckpEpBiqdg5zEnYzgqvlEvnDVVNPluGe1YTDut8gxrZlcyciNYt1I47QNGobgGezZU7DsOmy65ATMntK3WbTD+np89NHz84/+uzRw9PL0/UmhFDFeH5+/uOffTCbzW/fvPHuGwff+daDB3dv7bWBK4pughF2wE5Iz8wowRWNJtymlbK47mVUsoQyHF/texKZ+WjyX6kAdwNAJfIo5xHtGB7a+iduev1ukIIhTP6Mmpurwo0JHCQNg2o2VdXs7swC+Hp1GUKEaWAhIriZpoIIFIdy6DfdkFsWN4OBSEBGLFnViKWK8/3Di2d9aJZt256dPB+yUg8wWU4Acs7rlE6urj589PiXDx9tELNUBr5a9cZVSn55dvnk9OLzT8Jfvf/hP/zdv/t3//b3ZyQpJWYYe1kGdyfBNcY1vZpWB7KyPGyFXqLSMZ76eg9oVwFEKPHe5CQSjWFROSPnXKAxQonDinM0gnUYgYMCmVkM4oY0DJpTmSrMYA5mlnN2N5K4Xq1iCHuLZfHVNGdTNcvM0JQJcM3npyeL/aMYopA4uTNpVnWv6ma2PMjZxJyJZkvr+nVbt+tunVNq5zO+iAhysrr64uxUFnNRSUnPr668eGLTuDxZ0+XmJP+bPyG33/7+20fzkAv2MT0181YCxESjcAGm0Q44iEZfcQyTmMjLi3Lt62kgkEixIOQFZSoT6zqa3s6AYqnhcJTIaXTziYqX4O5qqnBlco5CcOWgqjlnZmqaxt0sQ5q27/t+GGIM7m6mcPOcGZQdLKGdL/qrtZYYsPi6Ng4QiTEChzdu566zblPNlqFtQV6BFu2s36xWm81HH3+y2vTtYu/ifGXEv//7v/dHf/RHFxcXDAaBiYlZOZqmxyfnP/nLn81Yf/D2/bZCXQtHGR96enyfhjYKGrH9yzjSi61mKj8xWaExVn0NBUDEnd3Mnc2MimLhjtEmcInCYW6ubjB3V3IXdpi5OpCAETU0u45+SQ0gYfbA6uQk2VAZiNiiDZ7VndlChG1SQ7R2HpQXBwfKXMklqppFiDgEcibJKVaRmEKIJBFA59bMZ33fDX0/259Jv/r0lx9FC8ft0UWDh/1mvbL/8B/8vb9+/2cX56cxRhtxBoOaOHHDzbLeP9yTbN3FRXW0MDPJyhJIggRxp+LqEzN4RKSdxCY/CA4C+wiRCZE4oiECRBAiJhYwO5zo1cogouDTgRchC/fR8mE0M8CEQpUopSAIcHPXbfJgHDVlBXM2N7NE5hUzoN73FVUOilAj9pyIREI1hMyB2d07NqCpmltHzZDTNF6DOy+Wy8VibgU8U4uxIkAYANq2ffz5w9PPPslJF/PF/v7B6XsfnJyfGtMHv/zg/ff/uqqqMl9FhJmDyCw0JrpYLFS1rmtm6ftemGEcSnxNzMxC5CMox6NAiceYiJ1GZJRADCKMeM0rkJ+vmwFbwY3GZLpyREZLXLydjlRGRfF8S17FrPjyxTaVFaKEuRDP7lldU0kD2GZzmVWqKs7alMAcSNjNQ12rDvVycVTXqt5vuiBxUbdc1U4cYvRMdVOFqk45uVuIEUBVV645iJyenjTt7FtvfevkydOHnz38/PGjL54+6fPQqX/48YcxRmY2s5SSiLRt29R1KzXV1DSBQM+ePVsEnaMRqTJzQwHinjJLEAnMTEJgGaUPonEGFHylDFEGs5Ngi5m97ho8gnEvHAWlI3qFS0zFXrsVt6eEUSOks70dFJyaC0pNToEkDd3F2Wm/2Tx+/uzs4vxbb79z++4bIVIV6l4HCuQxRg6xmW2uNjl369U6D7mWugqRJQTmWNeGEpY7iUQRAXIekvty/yAc8ubZ071Du1ptFnvLxXJh5xdM7EQkgZiGYWBmEZFQkGaatS2zqmYRUbVnz56tNnG5WDpxdq/qViBggFgklhRIycP4aCHy9MQFnw8QQXHtqJjxrzvKwulASCmNdyZSvB1Mtqh8/Oh1mcNK4OpjsmL6t5uGKPG4FnRtcIDM6WrVf/zJJz/76V+9/9fvn64uU0pv3r37n/+jf3z/3r2jowBLIAl1RSBmqZuGWEKoc87mJCGKxBiYRMwMwszCxCGIm0JziDWLmGqYzxchPKjrVRr+/c/eW7atDvlyMxDF8kQiUtd1FStmEeau7/r1Btb/8O6t2Wwm2dtZ3c7mddMyBwmVxCghkgQfsyBiY56VxnjNHcwgJo4kPLorLF8/5LeTg8BuGlJKIZRwDOUnroPr63Sg+YiYko0zYDsPdnXNRFk1D0mzRgR1+ul77/8v/+v/9vNffvzJw8ePnzyjOjZRfnDR19Uf/6f/0e97zsc3jwG4c07a5d4cm35o2nZ/diShqZu2qmsnOBzM7sYgqANk5lkNxRsXoeWcYxDNRzdu/uiHP+yV3vvw442TM1S1GJ+6riUEct90nQ65jXa1XocQCLhx40Yzr1Ec/IK6EIMF4FzeAnwHBiYJgG/TU2B2ZkIB3fi1kjIEZg4jfB9ewiSwxUVsQt7IncwNJaM7WZ5peS5X9cNQ0H9hPj09+Xc//tN/+a/+4I//9KcDpDPyMBtMV5299+Hnd45uf/7w8eryrIo0X+5ppjKPQoyLpqEQm71F5KaumlAFNUslmnOCox+G6D4Mw5BSZC7JK6srZjS2eOPevd//3d+rm4Vm//NffHSlrmoikrNm1RqIMbpJZ7rebO4cHy4W81hVdV0xc87ZyetK1EyzBsoUyMHEDgOPS0AJyHhcEUhANK4QI+yJ17FC5Qjd5pJpbibmYIklDwY3GkFPJ3c4BHCMYPcIlLuBnRyJFUBQiIKHJBKUKDN9/uT8vQ8++9kvH25M4nz54O697777vX//f/3R1dnZakj/5ic/ufXm3R++8/ann3zx1tstL2KIdVM1XDXStLFqQ1WJEYHMCE7scDMYuavAVNXNuIw7EQnSEtRCrqg9qO6F2iWEIAdHy/c++ODs7LwfOpi0oW5m0udhsAvocGNW/+jdb1dVSJq79VChdgoMNuPszuLMIIITCjrj7GAf4VGuCFICixIiEDFAioI0Yjpvwje/IjoOqgmuE95cgCaaklYTLFsCA0zrP65Rp7Lm2OQZ11W17rtkena5/vTx83/1B3/4+NnZ8Z17f+/3fn+xv/9nf/ZnFycnQYiETtdX//O//tf8z/7pt+7fJ6mqto11E+sZVw1CzaEiDiW8KBlNx4Q7mjFBzYhQjCcXc6EKJ+KAAGmad77zzoM37//gN7774x//yZPHT64uV4Phsh+S8Pn66jLTzeXN+0eH87q6uDhPgYfU1LltZrM2VAZ2EMAGpjFVSOxjUDrKkcUxLrmjJApbgq7NOE2+Jdy/CpEO22zji2f4CEq/gPC9ekqxEjkVjL9XTW695k8fPf7v/vv/4XS1fvPt7/7zf/Ff1G37f/zvf/Bnf/LHbdMkOJuFEDjw87NTr6RazChElsgSQowUApgBaLkHAgB1N3KbQKlxiSJyd1VV1aw65j5pJAZwFR+89ebNo72nj548e/zk4nK12nTn6/XF6upK70SHd+uL0zOtpG/C/HCvms1i09bzeWGggISISZhjZGaSkn8ax7u5AOzXWFBZJr4xHh2m5NqXXdfd3EDhPbxaAWLshhKLJVUHUk7/5x/+4WcPP29me//gP/nHt9/81gc/f/+nf/kXbVMhUFYj0zpWs1n7nXffvfvgPlWVUXQOzgKwu5sqYOAdF5nghNEgTgoobpuZmdnWgyARqWIeLLtJUy3rfWI0dTh/flbVdZ/zLz/88Nnp2cFyKa5787Zu43zZtssZE81n87pp+qQiEcROIJZYVcTMzFaYTlyAIRlRmBEb+3Wkj4KGmpmXjA7GWY6So7JsZgQt/vy1BRoBOIeZuwVj0pJbycKuOT3+8BchbVqxgzu3fuM3vp+zffCLD9fr9SwikSt8FmMU6VabgpGFplFp6tk8lLFPLFvwfUpGEDlcVbNrpp3gcasGH40uuZsTcQx1CL1hMwxYNAs55iaaakP4zePfDBYEIFN3C7V4gAtVIRA4pWyEEKtQVbGqQ4jkUIe5Aa5mIzhAsh2yzDIC9hOUPVqeUVa+a/5fglrD1gf1HSaFwwEF3KHkU5IavnWNfHc2lMykK5CD6/riJG4uf/vtNx+9+8zmhzf2F48v+y+ePLGShySOQrMQg/nh3vKH3/v+jeNjNQuzhmIFlnKnZUy4JjdVG4/y7VtEc2t/zMxUC1wAKjk0QNjcQYGkQQCiN/t7qnm1WZlAEAIocBWEIYTIqIL2KfVDaJpA3M4WJMFRQN4iHgJAMuUBdrE2mibBS3nN679vh9HLsyTEWIJKmtKgo1Ddt/6+ezFBfq2AnW8i9wTLDoVn0myXZ4dMWvP37+0/WhvnTeq6tm2dmYRzSpVENlg3/ODvvPvu29+OLFw11MxCrFAWfx9lmlarnIaUs2pm5iChTJGMF/RSXuWcRZjLeCogETzkKECGZ3bE0HMvMXR5EFDkgJRCjOqePA9dx05VOwMxh+gi6jB3OMXR7SMwCfM2H+DXwrLRctCYSCG6JkqNFuNLiimrawghioQRUZ6YKHCa/M/yyxgJT6lJbD0sd1iB7FTZhuHqklMX8tCfnR7PZyvNaX1+uDz03DcheMpCYdnOabN6641b/+1//V/evnUMkaqdeWwgTF6gVoJ7TkO/uerW62EYUs4OxBDrugZzsmxqKSVVLWEKgDpW7NFhwhFMRuxwGWUVnKIR1YEztK5ngw02ZKnqzZCIyUiYpKpiQb+dSa24PEKA63b4MhHTdbp+12KM+PGOcaAdoRd5+e60KNILQaJIYJKRSwgiYnBwGIzZQcg08o38pXXGHWaanciJzThn7TsfhvOz88Xe8YP9ZffFs5MvHp/qk7/88b/dqxvOtM5k/XD7aP7f/Ff//Ld/+3vSsMXW6zlCU8glDAe5u6Wh17xZXZ6sN5v1phtyHgZ14iAM182mu7g4X6/Wm25TVdXNmzdvHh/ePD5uqwa5pVgVKDh7Vkm5gjHrIJY8UIxcMVfGpmYQBSBEROyuXtZwlhJnFCIiERdq+AgOT6HnlpFG5CM4bGbXCbKXZLXjuG/14/5yADxdXAJxBxjGQCEXEiMDbhiJq+RKsGAJubNhnVJ3dbU6v7yaHRzP5gczbp4RnvT+e7/79x+fPPuX/+P/RJGPZtV33rr/z/7Rf/xP/sl/FkLsszaLliWYO22JL+ammnPquv788vLk5Ozs4mK96c/OL66uVv2QVuv15cXF+cXFanW1Wq3rur5z5/a7337wo9/8zbfeeHMxh6TkISBEsJKZAMxC4klL2iiraxHBmPEGiHaQGDfa4SVci2wX5vwyaeHXOl6pACdmUAGVzE1tpEkauxUeT0kDkKmbVja4dpt+1W82g+nyxu22WlT1rK5nv3Pj5k/e/8WHP/1z2ax+93d+63D/8Lv37/yt773zve+8vVzMlUjqlmJtKHQ5Z7hrzkPXdev1anW1Wl9crc8ur07OLs/Oz588e35ycnK5Wj8/u7q4OO+6ru97MxOWjx998fnnD09Ozn/nb//o3W9/u2lqDkHqyMJcrLJBmJRJs7q6uvF0bCVblr1y7Mp6e86ub/NS+v3XV0DOmVl2gmZg9DJLIkIggUrZhhsmHwRjdOAOy0OPYSDmqmnmy33mFl4BoSGa1fO//713P/jo0zt/5z/ohh8t9w8O92PbxqOjg6ppqZnzbJ/rxjm6m6uaqWtOfZ/6vluvr9b9qhu6pIPa2eXqybOT5ycnpxdX51ebbrNJOZspADaD2gcff7re9DqoEN+7c6ud1yHHEKJwYCZiNmYiKmxGMto9JiGOkMJLmaUpQ+UvAv1bZtCOH0xjLvhr5sTLbmhJFREmxmk5qQSgxMTCPsY+cIOHkTRZjCMAsEtNEewV4Ai1UU2oyDmvr3zo9oR/cPdOb3Q1qMdaWuwd7c0PjhArVK1J8JJqNXdT02R5GPrN0HWb9epytd4MebXpn59efPHs5NGTZ2dn51frbls7UUZDAegzwrOzy7967/1a2H74G7dvHS33Z9zOOTQuTM7Fj2SCwXfH7Evjt0i5+DC7vvxLMh1BgukYr8WOy/l6R+AdLGLnJuAl9wZ3ZhhTWWhDQ1OFBYtajsSZINBMngkKDoQAim4MVu66vF47Onck1Tivb775oJrPKdZKQrFCiFQSyDYytDWnoe8269VmfbnuutWmf356/vDRo88ePnr6/GTT9cOQ3NzcyAxbWggBocqOk9OLjz/55ObhYjHjxVw8R4eYsTNTYGMqY5V3bO+L4/3rZLcrWbuOiV6wHNckq9dMSV6HNS+8X94o6Z+SFyWwEMnIQIGRO1FmyqCG3MgTeyIihhCCAqmqmjZQtEw5krxx/0Z9dNNDqxSVIlU1xzjduAJUCMLjg5pqSheXVw8/f/ThRx99+tnnT549Ozu/UHNThdsOY4QJBCc1cmE1X61W52enQ3cr9ZvAkTxyYDgLh3HM4nqwvSi+X6EATEUowMRG27FR2w/xV73/lQqQKirg5lM2hwBiB7uZEzyYwSHElbCDGa7uSq5meUS+pXi/4hZFpJhRAQWbG5zam80tCjEaSB1enDoBl/QZiTsbOVMvDMs95Y7d3On0Yv3Rxw8/+PmHH3704dPnz9ebTTYtATFhy70hh2czN2dlq2Iv8vRyeHRy9a3L7tYRrNJsfbAgHGHjeCKAfUUizoE4gCI7sRM8wZP5FgIs6Ua4DZiiVBo5goC7ONzJQYXyzaBiHLZo8Y52X2XxCEYIwoEL7EeCwuOdaj+mwiW+/gQhMnYvXpEbjOBUqumMiAgSxjuHBK6AcdnW0TI6MViYhUm4BHkEdtj4TKaWk6oOw3B6ev7e//v+e++//+zkuZpNYDCPz0WTdEoI5K46eEEMLT9+9vzk9GK4e7O11jQbEbM4KUAAlzXMGQCbGZDc2Y0ClEbxetYi0lJ/kLbCK4McXggRhfzjk0//JRG/xlES/8JBQDKpnQDziZu1jf3GOxDApbC4yvrnZjSmCG0idhGRCIfr2yYqRQso+ROpCtICACXNqeZmppY155Q2q/XTp08//uTjx48fDzlVdT0qQJjIVa0g87sGRMng2qce6mfnZyenz1erW/N5G0ScyIgLkWdkf3LJPToHD8zsJESWctbBAXNS84JrA5gIEBNiPDk8GIcOwcynDMxEYnvd4CAwl3VYJjLXmIzZlum9QCriMVQCADaCEJwg7s4jXwgjH56FS9YU06gRkLuXSk8OIIYXiofThGrCHOpuNvT9xfn5xdlZzplAKSUWkRiIeZxrk+94/ZxMEDgMBIJpGoa+0zSEEEEEUi8IWjFcNJKbS+VNwbq0Xw9DR1QMEoOYjLGTW/TCP5yQ1wIxODHcHWVq8pSdeV1fKJQsvhvAdG37Ro94VPz2bIc7ykQu1ak01iuXaTdpqrxR4BSinZnEoFAXRNFtvOVSew2wqcI9SiAnzdqvN2VAlYybiCwWi6y6Xm9ERuZBWQkmieSCiFVVtWza471lQ8yqltOY0TIjEeJAXAoaRzZhYLK+36y7obsYhq5pWgOJBA6BJACsO7Cabz19Lp46AVDzkhkutSTlqctN7mjrKxQwiZimao7RtH21+koURoW/7l6GxQ72XT6EQMzFQ+RtpENwCiABpnLb0V9wuJM5fGRZElDFOJvNQjgfcpIQDg4O5svFkJKqdV2/NQYARISIhNjNI/ygnd27eetoNm/BnNU1QwJMWYiKvp2UxlITAjQNw+bq8vlJGtYkILeqbhyFiakgtpeChtFBJJQ08TWRnN2vEbpfuRKU8CrQNs08jf2ShH71NWMtclnKmMjhDJMCjhPg2/q1ooBr6H60GcoBzuP9uwHOhVU3wt5elu2mbm7cuPHWg7fUfLXZxLo6PDyUKpxfXLxwP2WwMIsEJoX5oqrv3brz4M7d48V+AyY1N3fNLgwWcvDWRRkl5UO3Xl9drFYX3fqybqKmlHOumpZF2IyYXUZQtUigPIk5l64F7jQlJq0kar6Mu321Djz0KU85GRqdqC3c96WDxmK1CR0vOGtxn4pFvBY5O11TJ4sRIAJQpkWpxjcv/9zgGSgVVswiy8Xs7u1b3/nOt4nl4vLCCRJCNst91qxEkyE3ZyFhJnZyrwLdXM7u3zi4ebCYNRUJWeEIi5Nt1yLAPRCYhSCW0hePnpw9flTDAiM4W85Dt2EiipGDsAuy0TXjvJRik4HgTuxeUgBkxSuDKzHDr9HQXQPkUx57kqKHLucmhIqnEoGvjUTGbIMDTu68tfnY1uv4RJcBGTEAc7KSpoIQCGP1WpkrowLgGZ4c5sxGLHXc21/cv3frMuWU+s8+tdPz864fLlfry7NLMwM7GTOE3EmVaACsEt5v2jcOF/cPF4dNrCJZ4IIqTHUnDB6L39oQnMOQ7M/+9C9/+qd/sgy4ud/cOrqpgzXzVoIQyF2TGpmKBmZmYZ8qAAAUOiCXiexeAhOQFb+CaLsAwLbGejdQHr1yhBBCgWS3NZLf+JhKKK+zFGW8w9wK24ondJd/5RcQKMbIs9nt23eu1t3Dj37RXZw+/+LJatN32fohG5QCxvqUwKZqOcXIcwl3jw7fvHX75sHRsp1FEgGkkBiureA4F1NWNf2//+2/+9Mf//jZo8+OFzOkoxiquklWmpUICWKoK2YpjPycFUxTIr6ErmGknhPDyaFEX8FL3AmPty9K0UsoK9g3gi9e73AyIwAGYi/5/FJ787UXgZk5RJjNZrM7B8u3bh1/cbx3fvJ8c6VIGlnI1C1Pp7tDq0D7i/m95fLbd+6+devW8XLZhuBqai7RX5A/oeSN+0HPzs9++hd//sF7P7t780YdwzDk1XoN5lors9ht1kEjkUtVEwUtBSkElApPAjG5g5xJhEu7CCFyBb8C4b9OpU9gRvnF3MPWW3p96V/DUChqu447xvWpTIbikBXrZOBS0EHRJ+jXp45EuwOk2EAC6qq6sb/3Wz/4fhPiopn99S8/efjF03WfsrNB+lzae1gMvNfENw4Pvn3z1lu3bx3MZpFgWTVrjMEcYftcDmbJltOQvzg9+4s//0l3dXXjYL+NspzPF4s9YgaVJiEKY89Ia1hKQVqnqTBgbKlA7hnsBPEpPiC3UuyFiVK1jc6wQ6V5eQa8fsjwSk0URe6sHAVTg7uzlkIOEDNJIApMYj5SK3cjRYfv/Eaj+x/CcrFXS9U2i+VieXxw8NFHn3zx9Nnpxfll1135MLgz815THy+au/sHd44P9toKlrqNDoRYRW4qA7bpewFyzmcX53/x05999PmT8+dPu/XV/du3jg/29pZLCTFGj1Hcre+6Bs6IZZAOQizMIgXFcyZ2NoBsxI1hVkwuRpdyMjXXqy+9lHHZHl+RkvwGB006KKLEBFq56ZDVNJsTcYghVjFGF5ms0Cu1PsXZBACxnjNXNyWS+aKKdw8WDz/79OGjp08vNs/Xq3VKxHy0mN2YtbeXe7XQZrNeDSkwx0rmsgfNYibmXd91wzCcnT95/uzho0cPH33xF+/94vbxwVt37hzMqv3Fcm//ABSzXbFkZhC5adbiZrmZgoWJiUV4YpAUTWwpBG46eYWTXLZI+XXYfh27jE/7lTnh1z3GIGorze1IJje2bFmHIak6BwlV7VajqcE82ZnrUHtHGzRaKKKkZoYQ4sHessKdRfBbe82NvYPPnl09ubg46zZZ9XDe7Ic4D9HUeuu0H2IUcJNNu2HIOcPtcr3Z9MNmSI+ePH76/GS17oiI4LO2vn/3TlPXRAFSG8y9gyGlxGMMb26auWdjYpGCZRgb3Euu07epqhIRbKOL4vq8QgE7snN3D99o4aVtUZhnWDLLpupemFDO8CBipqbZckrWada06ZklD05Dt1lRdYMsNBRaiTWyBbOgSp4TG1ydFaqwTDZYzqzOWXNO7FyH9ujgVsVNG/fm9aNKPFzw5aarqnq5v1/H4LlXVUWwXpvI1JsN64dPLz5+8uzZsNqYNbHWPp1cpfXQ323St+8eHh/uxVk7WyzMPWcVC6a1urmru6hxGUnm5i4MWGZ1ZSERLpiw85RM5LE2DOZjHx+fmssRFeQVY703CuxY4MVfdwb4VCbmNjoD5HAv1EHTrLnXYZVztj6RiJCcnjyLIUi3mu0fLY9uqyu8tLpjU3YloCQODT5GC0buXPgX5uQxxtl85imtLi7Fv7Bh6Ndr7fv9uqmAzeXKLZMZzCxrv+n6zfrnv/z007OLPIs9bC6VGK/Wq+XR8t1vP3jrwZtHR0d1XeexmV8e+iQSiEyVzL3UXU2oQOmsp2OEQ0xwI2MzGylI7gWmLyHHdshPv7rjmoFYvB4j/A3WgHEBtpG6N7LINGfXrJpdB09d7johqZlOnz3tVusssqdrpPUnn364OL5zePuuNI3CkmUCwx1gcnIjMhS+qbmaZ/dsltQGzUPuuu7scnN6kVcb79MqXT02vaziZrNiQOAMNFU8WCzuvXH3s6entrrwQOToulWlON5bfOc77zx48/DmzZt1XccYSyV6kbWZFa7j9gnJR0tDKIGXg4zIRkjIjMjZfXINRzd3FP2kg+vodycaKD/D5D5en/Ra4p+cTSKCGwwGhblp0pxM1VJPOS3ahtxOnj7pri7E7Wj/cHPyxYefPdRYf+9Hv/PRs0fH9x60+wfMwtMjkDnUNRubJ7fSP0Mt+9APV1fr8/PnDx9/8ctPzh8/TQ5xeJeeXDxqgpTRJ4RA0KahQffa+dHBwf7m8nl/RW5kw83Do7ffefvNt964cThbLOYFCW6aJud8cXGZh740q9t1yrczgIiYzQo6tOM9T6j0ro/zgg4wIvTYFfW2+0OhpXAI39AfnaQvInBVz1baQqTB3TQnholI3w+Wek393rydNfXZ82cPP/qIiP/Wb3zvZz/5f5LEi/OTG/ceHBze1JQ85ZpZ111Qy5v1sN4o62I5r9yvLtd6etGfnJw/eXLy8eerpyfY9G7I7v1qlfuumbd11bgZ1AgOyoNuzr94Hhbt8XyxSesh51s3jr775oN7924dHi5ns9onznLOOaWUc0opFS1e98Zwh8HgpVHPJPNxCEopyuOJsUijlOlLMNxusLOrA2zrhL9pKFCuNzV3LfWqMHXLponIQ6DIVb9JWS0NOcRqOW8vT09OT57Xe/vf+tbbT548tmHdzhaPP3h/uFp9xj8PsRL3Zw8f3drbb5lXp2ep66SKe4vFnaNjvbj0k3N9ejI8etJ/8Zz7POdq1Xfad9YN7BZJDuoZ3KEKM84W3fWyq0J1s267qslN9eD2zduHy7151da0G/+nlLquyzlPENn1M36tBKYX19jLC8ySrxGd75Rkh61qvpk7RCQsZdRDFZ7NslsOkV0zE/qhzxCTSJL3FvN+fdkPw3y+WNx5c5VyBt974+7F+cX9owMd+p9//PPD27eePX4s2Q4Zl6dnDYmoPvro44+7rvnRb909OLRuaAdbZCwQ1qHuIRuStdmQh0rqg+XeXrUgN6iSWRr64MBg3KXloorZZovq3o0bNw/321lVRRYZ7XYp4N5sNikl3okof5U0SmhM18N/S+75VXLb/cnMwWyYssHjOdPPV8yJsVUumZO4mhM5SVmYiImdhckJQ9e5WyAZ3OaLZd93m+RxfjDfv8Gx2azO9g5vWEpLbpd7h4+ePHvjzt2ri7PTzz9/58ED6DCf1/O6tpQOuoNbx7fefPBOvlrF2DbVer9tN3vzK+fc9SaUhy5qjFW1P1ssqsZVPSfKWsPFneB1P8wqfmd58Jy6+fE+78+bum5UdN7ASTXloc/FazA1KO3W6vqY/ipyHZsGMzETM0PEWAApxas0jemySo/s0gK/Y8pGTceYNyZS96CWQOZO5gU0/noNllxKqVhFwfrBzM5jkz+4OYiFDdC8aFtXG7JSaAgU27a/upjVNUnsOe0fLwBuD3X/+Pj5J8Bbb1XCH3/6cRS+f+duCHJ098473/l+XbWp19DOQ7isYmibemksgcMGPtQtGVf18Ww+b1rXbEPyYVAmMSO3SvNsGO4vF+TcLmbVwd4sNHOXq6p2d+1H/0eYSFhVd63x9gWNtn6ksI2MUqJJxlvhErZh2Eg03KJb1wN/a2yKHxXMjIjNfNtr6BsfRE5MZGAyNYBZgpqFKsYYry6uQghGGmM0VxOWGJJqs5xXs1nfp9n+/qJpZjHevn9/c7Vq5ovzk+fPLy+bpr5546jaX+bBpKpiFS1Gl2om1ULAkj3kXDcRxHV92LRtVVsW8zGlLu7kzjrUzFWopa6rdWZ13mu4aoNZykPqh26z2WxWQ9+VIPbaDuwcICqFU9uSvK/MWH0zuYFAwcyKd8VkkF9RZv/VnzR2FTEoAGIOVS3kQ85GDkLdNMychgFVTG6QKLPWYxCWdjETkhZoHIvDdOPuG6nbQDWlgWOjTXRNVNch1i6VSzWP9UFNUU3UQmNzFq6qo2YWYnTJxuKJjZgL3TEQWWqTLw8OKLSZZGAm9kCUB88pFeaEaZ5KL64zutvDxz5VpRv6SF34/wu4D6WtZAheYLUpIPiK0x2j7z8ZfYeTM5xB7uTEwU0Br+vQb66yKYgoCAfJKTtgROqIVcVVlZ2kiiFWDKZQsVPpPKrD4JpMFSGaxNzlGIRjDHWTY13HbqEW6irCW5GuyhzCsqpDXWlOmUbbyKbkILAmRKa2aeP+Qb9catMoETZ9Gnq3zAQhcBUxkZquqy1HgyMugUQAlhBDrFgCSyBmEiaWgtNtc4LMI5+hmPWSRKSdLpS76zDKDNgF4l//GOk/hUXDMnJkBGYeImfVUtgzZmwxWkgmBotwLBG0F3ICi3HwkjG3AAnICaoEeKnYCpli5LoObVP3nZqSGbnVEtqYQTwPkZtKMxuTCVkPUnY1djMEaZt6f45FK7NZrFs2DOgK/dQ1M4+lIWPH/12jX3pZcyAe9wnQkV5WimmNycw4bIG2bzIvyuoeALhf80xf+2JMKAeNLa4LSYIQqkigPg/mBiIRESY4sTHgwUlCYA6WnYippHOIPdYlccPuFNRzhCqnRAoOETxwXWHWhOW80cTkIUgMklX7PpmjCYzAzoGEEEWFLSVNA2U1El7U8XjPj5Y2a8kFXZ+HXlNyVyIEFkDJWEtXlEkBpYMMS8gixFLyATauumAiEd42jJsCq29smaYZ8A2kPy3906pNow/GRsZOIYah7wuJnYho7I7oECFAQFEiiE1Lx/gJMZQwZvoJJGYsUA0gs8zsShRCQB2kqdA2yNnK/BuSqqoakTuxyDhivUaCw60WSKxx87h649ZwtDcQ9LzXi6uuX+U8CHMMYurFhE4N4K4BHOLStGv08lmEQ5QQRCSEIIHBgUbOB2HERKfsS+EofAmG3iVJEBBSP7R146oITth2BviKdAlLyT47fNzPg8yJic3BRFK63DrAIRDa8hxeOpCLGXscmS1gKbCVwuEKz8LCLLH0XzaKJubV3GTTpTMOypJC8FgFmTWeVdQa82jm4gNykBRCXUkMKcN6Jd9gEBGG8+GCv3VvuHtzPauHzQrpyvVSc+eWgUwMnvo0BwkF1Cm1GRA2IWZUMTALhcBcblJCjEaizmTEQiLBGUZgKNPY4R8AIMxEEtivvZtrN5TJf204uqzDfg34cWn7D4zlPyAS2fZBcBg7FbrpdUoaWz7FyMkAk9n0mYWr4VGkrcVy6jYaRAM1wMI8qEFNB5U+J801JamvKkQyVU+JkkWrIg+L/eqt+7P7b1xV1brvbb0aNpd5c0FCAtl+y/RUDGIrrXu5dPNhIlZzkLOZOrRwXAlVU5V+rSwsVSwdW9x9GIYyG0QCsZghp1yJ0Jf8ppEZ9+spANeOWmHAYUtqMRLAmLyUZBUFUOn8ZFZa149iB3zaFsdMmWkiVjKzMHPShBhkPgtBzC2bXnWbfHW11D5pTzpEQRMkulZMThumZOwD5z4YFu1sbxneuI3792hv7sPGry6pX0F7Fx+LUcMLOUIfu6O7uWfNIwEQTAWSBY0kfmIiMTOHEpHBPRO09DzdUqcLrx1ELPKVENEIR39TJO5aBzv2EmN22gjEJM60LTt2B7HBy/t5ZPB5IdeVxxszFUUBhXc+8pSCMNcUpaoCx9i2Leb1qvL+IvpqHQa1PsDUYugbcKiyubKgaWVvj4+P5NbRpq3Xq9Xq8ty6NWsSYWsqy7yNU7fUVfOyDrjBoQHFX2MWroiZQwDEieumJeYhJaiGEOAYhgHMIYpwIBJnImJVD8IhRKey88b1wN2V4bUb+iuBpJeUhy2yisnOo2xaUDou82Rt4FSooGDAbbKQBC4dqAjjOjYRB0sDAhqb3pMLmRCJAFTXjR8u7MFxfbXRyzW6PrqVrWAsRJbAahQrj5U1VV9Xg9CmX282l113haEjKHEIFIxR9ksqIhmzKFP/LyKEsRsricS6bgGKVV23s6ppN12nqlVdjzsfwOvYhBhIqGTvygY7dR2JJWd1osCyG2NPEgSAMDpbLF/VXPQ1DtrCIDT6ASjcvUlZvuWUTo1QplshmlhCoz174YPV3KDsCiSH1HWomqyzpItww6usSKWbRzb3wAx3UXOzZKauA0y73jZrRo6NZGIvuU9DiLjerGwElEkK27aQ5aWgbkQcmmbWtLMSBKxWazUrPd1DKMlWBnPZDYdJZrNZ6XKg7puulxBYwteEzmHrw/Kvpg3+ah2MTg+4dNye5O828Vb4RZyVpiu21uyFHvxqAFxgXGYJQOzMzBWJIxgqc8tZU/JseWV9iqZpvR42a7WULNNgrC6crSaE2rKEQZCA2G97DV3H/9MGYU4eQigkuBBirKquH4Zh6IYMolhV6ogi5DAzzyARYopVYAop5YLKsITZbJazO4h32P4vGfwQqljKHkuSvmR7/KtXjYKGYsyeC4EMALmVDrNjwyWC8/UWHwSfrOBkaoplGv/bab8wbmY12ikC4KxOeSQ2mjuRRzKUvbBUVYfc93noddhY2clt6FMaTLNpJgICuTN7BfIgRDUhIk9lOTRuBFJGCYi220sgSGnPEtTyMHTuVNcBzCIBBHUdeY4sEisnyk4EklCXgaVmgUPbVgD1Q69lhxl3kTCSCwkODtc1Tfi6CGCrgZ0hX0YzEXlpND9WVLmVngOwnZHOW8NX0MTR+G4/cURGiHdVXyilI/ZtNjHosmGAmbtazpoHHXpLic2J2B0cYgS5ZVNVMoNRZjYjNS8tFwSR6m0e3cxKUtJ9nKshhNJG0s36rlt1GzOTUIWqFpIQJMaYYHCSIM4BoLpuQ4jm2xa24KmdTggyX8yHnHNKU2ObUd5/szjgGjuksrHW5FtuUacXz9+KdTrny8v+K5zl6R/GjSvGZg6lZ2xOOWctBdsUQqnbLHR4QiB4spw0M5mbKWVXh09D0eHuwlLVNUtgye6eU3J3luCg0vcd8Lquh5QKYYIljGKNgYg5CHEwxzD0wzCAZSphRqGdA1C1bImFm6Zx977vfVQ14H8DauIIPo1fx8SlvWEpsMEEmr4s2a8iwW/f3P2rEU3pf0wukoOJSUrDXqdExFSwyWJPoAbXTCw0Js2JjYzcsmHa50CIxxS7AW7OsZ61cwJWV5er1Uq77U4tKJDcwf4+hzgk7YchpZRy4hyZhYTL7pLgICIEClP1+ZYF5O4Kh+IaNqJxryuUQEwkiIib4xulAya2qZedwsb9NrWwtgkUgnw54087YOxuT6nd97eXjFasLAsisC0T2wDAEKo6AciJebQYUCKC1GSqg2aJkYlT7qvYzGID85xS13e09QtphN6IuK6knbX7KdPkmAJuqqqDua83XTckoGANVLY9ZCaYcYgTIm0F3i9HoRgVxkkhTGzHHzOD4eYBOzHtr3cU5/E6f4pxYviLVKRXXfjyFNkqYPddZ0KJUHmMPWBMPHqLxAJSYjZ3FxAFcnbL5bbUQSHW85BTspSrWLV1UzWzLg1F+nBXK9E5nZ1fumlV10EkhNBtuq7vNQ1VBIsISwwwh4TIzDbpDYXDUqhdU+/oMsa3Q37r2dFEiXB3Yg5h2n3mb6iBkTJWNvEYaUqYeri8YgZ8jQJe0FaRshWLNtYOEhgcxq3tDMRCHMBwUyJhEYJbLhEG3IlCFEANZLTphg5D0zRS1eP3ggRuaubezhf9epWy9v1gZrGqmANXcOs1Z2Jp29ZB5vASKG4PKTg2Y6en0BTVs6rS5FlthxcBZSkr5Fz/NRQwGYex2KxEXtt5jdHff+FbxyeeVo5XKuOF2TJx0hzutO0/S2MowYA7szCP6XHi0uXNzIxLotTGHSljqJwjEWvK3ZBClOkGCYRh6Pu+D2zz5TyK9F2vOSfN3dBlzQEmMTDQpyGESkIVYlUaV4CIJPC2v72Tqm2ft6wfhYlbGBXlG8dt+cASJHjpPGvKIbx+Tmy0BOV12UUAXjbVLLYQICppskI4fPHal/RdQjCb9qXZ1oib5q2bWqhLRbE8RiHkpUY1BDMTjiMq4qpQMEEiD1lzTyEwk8Gquk2cTHMeVtt7IKLIVs3qeibkdvHsWXe5SilJFaWpXIh97gJnYyETJg5GNbMactlyUJ3ZhTkwGMjYMb+lo6wbTJ0cEAGXjUXMTTnr6FSVlNjrELu+fEyV1WM7BipRHdFuG8yXrNArJ1wxVl81Ea/dJJ/80hc/Dtd65SBBTc1cggRuh2Eo22eM5zCXYVfqc6uqIqK+H05PTtdXl0gaQLGqOAaOsZLIqB3qnjkwhViK+h0aQgBJyjmGUICc0jtgi61tb6yqYmkAb6oShIhCKCicjmhoQaaIfx04aJxaRGV/k4KKYhrprxTl7pKLcuPTsaubyc96QQHYjQZfkPv2kRkQL7VJjlh27SMCUITuxqFt1+u1qsYY3f3y8jJn3WzWrlbSaiICJk2pCTVLUPOsUDUijbGOoWaGwbK6SIghukNhIzv6hYFBALKqiFRSjU34hZkLO0/+P8WXzApnKGNvAAAAAElFTkSuQmCC\n"
                },
                "metadata": {}
              }
            ]
          }
        },
        "b348b70ddd5d40ecb36017aaede4a9d2": {
          "model_module": "@jupyter-widgets/controls",
          "model_name": "LabelModel",
          "model_module_version": "1.5.0",
          "state": {
            "_dom_classes": [],
            "_model_module": "@jupyter-widgets/controls",
            "_model_module_version": "1.5.0",
            "_model_name": "LabelModel",
            "_view_count": null,
            "_view_module": "@jupyter-widgets/controls",
            "_view_module_version": "1.5.0",
            "_view_name": "LabelView",
            "description": "",
            "description_tooltip": null,
            "layout": "IPY_MODEL_2ddc361b34e547c9b31e0040201146f9",
            "placeholder": "​",
            "style": "IPY_MODEL_681b9d1893db48ea996fdff8b21ddf12",
            "value": "É um: cachorro."
          }
        },
        "7b5247e127384bf780819421ee5e5e48": {
          "model_module": "@jupyter-widgets/controls",
          "model_name": "LabelModel",
          "model_module_version": "1.5.0",
          "state": {
            "_dom_classes": [],
            "_model_module": "@jupyter-widgets/controls",
            "_model_module_version": "1.5.0",
            "_model_name": "LabelModel",
            "_view_count": null,
            "_view_module": "@jupyter-widgets/controls",
            "_view_module_version": "1.5.0",
            "_view_name": "LabelView",
            "description": "",
            "description_tooltip": null,
            "layout": "IPY_MODEL_df7598abc2644083b8e03a6e0180d78d",
            "placeholder": "​",
            "style": "IPY_MODEL_282277672bc446afab9c0d916a817649",
            "value": "A chance de ser um cachorro é: 100.00%"
          }
        },
        "fcd5550c344847f79d18389c07136506": {
          "model_module": "@jupyter-widgets/base",
          "model_name": "LayoutModel",
          "model_module_version": "1.2.0",
          "state": {
            "_model_module": "@jupyter-widgets/base",
            "_model_module_version": "1.2.0",
            "_model_name": "LayoutModel",
            "_view_count": null,
            "_view_module": "@jupyter-widgets/base",
            "_view_module_version": "1.2.0",
            "_view_name": "LayoutView",
            "align_content": null,
            "align_items": null,
            "align_self": null,
            "border": null,
            "bottom": null,
            "display": null,
            "flex": null,
            "flex_flow": null,
            "grid_area": null,
            "grid_auto_columns": null,
            "grid_auto_flow": null,
            "grid_auto_rows": null,
            "grid_column": null,
            "grid_gap": null,
            "grid_row": null,
            "grid_template_areas": null,
            "grid_template_columns": null,
            "grid_template_rows": null,
            "height": null,
            "justify_content": null,
            "justify_items": null,
            "left": null,
            "margin": null,
            "max_height": null,
            "max_width": null,
            "min_height": null,
            "min_width": null,
            "object_fit": null,
            "object_position": null,
            "order": null,
            "overflow": null,
            "overflow_x": null,
            "overflow_y": null,
            "padding": null,
            "right": null,
            "top": null,
            "visibility": null,
            "width": null
          }
        },
        "b36ee1a14991468ba3cea9c52a59814c": {
          "model_module": "@jupyter-widgets/base",
          "model_name": "LayoutModel",
          "model_module_version": "1.2.0",
          "state": {
            "_model_module": "@jupyter-widgets/base",
            "_model_module_version": "1.2.0",
            "_model_name": "LayoutModel",
            "_view_count": null,
            "_view_module": "@jupyter-widgets/base",
            "_view_module_version": "1.2.0",
            "_view_name": "LayoutView",
            "align_content": null,
            "align_items": null,
            "align_self": null,
            "border": null,
            "bottom": null,
            "display": null,
            "flex": null,
            "flex_flow": null,
            "grid_area": null,
            "grid_auto_columns": null,
            "grid_auto_flow": null,
            "grid_auto_rows": null,
            "grid_column": null,
            "grid_gap": null,
            "grid_row": null,
            "grid_template_areas": null,
            "grid_template_columns": null,
            "grid_template_rows": null,
            "height": null,
            "justify_content": null,
            "justify_items": null,
            "left": null,
            "margin": null,
            "max_height": null,
            "max_width": null,
            "min_height": null,
            "min_width": null,
            "object_fit": null,
            "object_position": null,
            "order": null,
            "overflow": null,
            "overflow_x": null,
            "overflow_y": null,
            "padding": null,
            "right": null,
            "top": null,
            "visibility": null,
            "width": null
          }
        },
        "223f62d18a14462eb66db9884ac8d6fd": {
          "model_module": "@jupyter-widgets/controls",
          "model_name": "DescriptionStyleModel",
          "model_module_version": "1.5.0",
          "state": {
            "_model_module": "@jupyter-widgets/controls",
            "_model_module_version": "1.5.0",
            "_model_name": "DescriptionStyleModel",
            "_view_count": null,
            "_view_module": "@jupyter-widgets/base",
            "_view_module_version": "1.2.0",
            "_view_name": "StyleView",
            "description_width": ""
          }
        },
        "72d42deabab641d6bb33fe1aa8a30bbc": {
          "model_module": "@jupyter-widgets/base",
          "model_name": "LayoutModel",
          "model_module_version": "1.2.0",
          "state": {
            "_model_module": "@jupyter-widgets/base",
            "_model_module_version": "1.2.0",
            "_model_name": "LayoutModel",
            "_view_count": null,
            "_view_module": "@jupyter-widgets/base",
            "_view_module_version": "1.2.0",
            "_view_name": "LayoutView",
            "align_content": null,
            "align_items": null,
            "align_self": null,
            "border": null,
            "bottom": null,
            "display": null,
            "flex": null,
            "flex_flow": null,
            "grid_area": null,
            "grid_auto_columns": null,
            "grid_auto_flow": null,
            "grid_auto_rows": null,
            "grid_column": null,
            "grid_gap": null,
            "grid_row": null,
            "grid_template_areas": null,
            "grid_template_columns": null,
            "grid_template_rows": null,
            "height": null,
            "justify_content": null,
            "justify_items": null,
            "left": null,
            "margin": null,
            "max_height": null,
            "max_width": null,
            "min_height": null,
            "min_width": null,
            "object_fit": null,
            "object_position": null,
            "order": null,
            "overflow": null,
            "overflow_x": null,
            "overflow_y": null,
            "padding": null,
            "right": null,
            "top": null,
            "visibility": null,
            "width": null
          }
        },
        "e37fb820dc4340a3ba3d3135b24846e4": {
          "model_module": "@jupyter-widgets/controls",
          "model_name": "ButtonStyleModel",
          "model_module_version": "1.5.0",
          "state": {
            "_model_module": "@jupyter-widgets/controls",
            "_model_module_version": "1.5.0",
            "_model_name": "ButtonStyleModel",
            "_view_count": null,
            "_view_module": "@jupyter-widgets/base",
            "_view_module_version": "1.2.0",
            "_view_name": "StyleView",
            "button_color": null,
            "font_weight": ""
          }
        },
        "2ddc361b34e547c9b31e0040201146f9": {
          "model_module": "@jupyter-widgets/base",
          "model_name": "LayoutModel",
          "model_module_version": "1.2.0",
          "state": {
            "_model_module": "@jupyter-widgets/base",
            "_model_module_version": "1.2.0",
            "_model_name": "LayoutModel",
            "_view_count": null,
            "_view_module": "@jupyter-widgets/base",
            "_view_module_version": "1.2.0",
            "_view_name": "LayoutView",
            "align_content": null,
            "align_items": null,
            "align_self": null,
            "border": null,
            "bottom": null,
            "display": null,
            "flex": null,
            "flex_flow": null,
            "grid_area": null,
            "grid_auto_columns": null,
            "grid_auto_flow": null,
            "grid_auto_rows": null,
            "grid_column": null,
            "grid_gap": null,
            "grid_row": null,
            "grid_template_areas": null,
            "grid_template_columns": null,
            "grid_template_rows": null,
            "height": null,
            "justify_content": null,
            "justify_items": null,
            "left": null,
            "margin": null,
            "max_height": null,
            "max_width": null,
            "min_height": null,
            "min_width": null,
            "object_fit": null,
            "object_position": null,
            "order": null,
            "overflow": null,
            "overflow_x": null,
            "overflow_y": null,
            "padding": null,
            "right": null,
            "top": null,
            "visibility": null,
            "width": null
          }
        },
        "681b9d1893db48ea996fdff8b21ddf12": {
          "model_module": "@jupyter-widgets/controls",
          "model_name": "DescriptionStyleModel",
          "model_module_version": "1.5.0",
          "state": {
            "_model_module": "@jupyter-widgets/controls",
            "_model_module_version": "1.5.0",
            "_model_name": "DescriptionStyleModel",
            "_view_count": null,
            "_view_module": "@jupyter-widgets/base",
            "_view_module_version": "1.2.0",
            "_view_name": "StyleView",
            "description_width": ""
          }
        },
        "df7598abc2644083b8e03a6e0180d78d": {
          "model_module": "@jupyter-widgets/base",
          "model_name": "LayoutModel",
          "model_module_version": "1.2.0",
          "state": {
            "_model_module": "@jupyter-widgets/base",
            "_model_module_version": "1.2.0",
            "_model_name": "LayoutModel",
            "_view_count": null,
            "_view_module": "@jupyter-widgets/base",
            "_view_module_version": "1.2.0",
            "_view_name": "LayoutView",
            "align_content": null,
            "align_items": null,
            "align_self": null,
            "border": null,
            "bottom": null,
            "display": null,
            "flex": null,
            "flex_flow": null,
            "grid_area": null,
            "grid_auto_columns": null,
            "grid_auto_flow": null,
            "grid_auto_rows": null,
            "grid_column": null,
            "grid_gap": null,
            "grid_row": null,
            "grid_template_areas": null,
            "grid_template_columns": null,
            "grid_template_rows": null,
            "height": null,
            "justify_content": null,
            "justify_items": null,
            "left": null,
            "margin": null,
            "max_height": null,
            "max_width": null,
            "min_height": null,
            "min_width": null,
            "object_fit": null,
            "object_position": null,
            "order": null,
            "overflow": null,
            "overflow_x": null,
            "overflow_y": null,
            "padding": null,
            "right": null,
            "top": null,
            "visibility": null,
            "width": null
          }
        },
        "282277672bc446afab9c0d916a817649": {
          "model_module": "@jupyter-widgets/controls",
          "model_name": "DescriptionStyleModel",
          "model_module_version": "1.5.0",
          "state": {
            "_model_module": "@jupyter-widgets/controls",
            "_model_module_version": "1.5.0",
            "_model_name": "DescriptionStyleModel",
            "_view_count": null,
            "_view_module": "@jupyter-widgets/base",
            "_view_module_version": "1.2.0",
            "_view_name": "StyleView",
            "description_width": ""
          }
        },
        "d6d496432f0144518c07da32bea160cf": {
          "model_module": "@jupyter-widgets/base",
          "model_name": "LayoutModel",
          "model_module_version": "1.2.0",
          "state": {
            "_model_module": "@jupyter-widgets/base",
            "_model_module_version": "1.2.0",
            "_model_name": "LayoutModel",
            "_view_count": null,
            "_view_module": "@jupyter-widgets/base",
            "_view_module_version": "1.2.0",
            "_view_name": "LayoutView",
            "align_content": null,
            "align_items": null,
            "align_self": null,
            "border": null,
            "bottom": null,
            "display": null,
            "flex": null,
            "flex_flow": null,
            "grid_area": null,
            "grid_auto_columns": null,
            "grid_auto_flow": null,
            "grid_auto_rows": null,
            "grid_column": null,
            "grid_gap": null,
            "grid_row": null,
            "grid_template_areas": null,
            "grid_template_columns": null,
            "grid_template_rows": null,
            "height": null,
            "justify_content": null,
            "justify_items": null,
            "left": null,
            "margin": null,
            "max_height": null,
            "max_width": null,
            "min_height": null,
            "min_width": null,
            "object_fit": null,
            "object_position": null,
            "order": null,
            "overflow": null,
            "overflow_x": null,
            "overflow_y": null,
            "padding": null,
            "right": null,
            "top": null,
            "visibility": null,
            "width": null
          }
        }
      }
    }
  },
  "cells": [
    {
      "cell_type": "code",
      "source": [
        "! [ -e /content ] && pip install -Uqq fastbook \n",
        "import fastbook\n",
        "fastbook.setup_book()"
      ],
      "metadata": {
        "colab": {
          "base_uri": "https://localhost:8080/"
        },
        "id": "40HQ0Oaa5LTH",
        "outputId": "7f73d665-1330-40b5-d2a7-3b01bb300bf8"
      },
      "execution_count": 1,
      "outputs": [
        {
          "output_type": "stream",
          "name": "stdout",
          "text": [
            "\u001b[2K     \u001b[90m━━━━━━━━━━━━━━━━━━━━━━━━━━━━━━━━━━━━━━\u001b[0m \u001b[32m719.8/719.8 kB\u001b[0m \u001b[31m15.1 MB/s\u001b[0m eta \u001b[36m0:00:00\u001b[0m\n",
            "\u001b[2K     \u001b[90m━━━━━━━━━━━━━━━━━━━━━━━━━━━━━━━━━━━━━━━━\u001b[0m \u001b[32m7.0/7.0 MB\u001b[0m \u001b[31m50.3 MB/s\u001b[0m eta \u001b[36m0:00:00\u001b[0m\n",
            "\u001b[2K     \u001b[90m━━━━━━━━━━━━━━━━━━━━━━━━━━━━━━━━━━━━━━━━\u001b[0m \u001b[32m1.3/1.3 MB\u001b[0m \u001b[31m70.4 MB/s\u001b[0m eta \u001b[36m0:00:00\u001b[0m\n",
            "\u001b[2K     \u001b[90m━━━━━━━━━━━━━━━━━━━━━━━━━━━━━━━━━━━━━━\u001b[0m \u001b[32m474.6/474.6 kB\u001b[0m \u001b[31m49.6 MB/s\u001b[0m eta \u001b[36m0:00:00\u001b[0m\n",
            "\u001b[2K     \u001b[90m━━━━━━━━━━━━━━━━━━━━━━━━━━━━━━━━━━━━━━\u001b[0m \u001b[32m224.5/224.5 kB\u001b[0m \u001b[31m27.4 MB/s\u001b[0m eta \u001b[36m0:00:00\u001b[0m\n",
            "\u001b[2K     \u001b[90m━━━━━━━━━━━━━━━━━━━━━━━━━━━━━━━━━━━━━━\u001b[0m \u001b[32m110.5/110.5 kB\u001b[0m \u001b[31m15.8 MB/s\u001b[0m eta \u001b[36m0:00:00\u001b[0m\n",
            "\u001b[2K     \u001b[90m━━━━━━━━━━━━━━━━━━━━━━━━━━━━━━━━━━━━━━\u001b[0m \u001b[32m212.5/212.5 kB\u001b[0m \u001b[31m25.6 MB/s\u001b[0m eta \u001b[36m0:00:00\u001b[0m\n",
            "\u001b[2K     \u001b[90m━━━━━━━━━━━━━━━━━━━━━━━━━━━━━━━━━━━━━━\u001b[0m \u001b[32m134.3/134.3 kB\u001b[0m \u001b[31m16.3 MB/s\u001b[0m eta \u001b[36m0:00:00\u001b[0m\n",
            "\u001b[2K     \u001b[90m━━━━━━━━━━━━━━━━━━━━━━━━━━━━━━━━━━━━━━━━\u001b[0m \u001b[32m1.0/1.0 MB\u001b[0m \u001b[31m53.2 MB/s\u001b[0m eta \u001b[36m0:00:00\u001b[0m\n",
            "\u001b[2K     \u001b[90m━━━━━━━━━━━━━━━━━━━━━━━━━━━━━━━━━━━━━━━━\u001b[0m \u001b[32m7.8/7.8 MB\u001b[0m \u001b[31m71.2 MB/s\u001b[0m eta \u001b[36m0:00:00\u001b[0m\n",
            "\u001b[2K     \u001b[90m━━━━━━━━━━━━━━━━━━━━━━━━━━━━━━━━━━━━━━\u001b[0m \u001b[32m149.6/149.6 kB\u001b[0m \u001b[31m20.8 MB/s\u001b[0m eta \u001b[36m0:00:00\u001b[0m\n",
            "\u001b[2K     \u001b[90m━━━━━━━━━━━━━━━━━━━━━━━━━━━━━━━━━━━━━━\u001b[0m \u001b[32m114.5/114.5 kB\u001b[0m \u001b[31m16.1 MB/s\u001b[0m eta \u001b[36m0:00:00\u001b[0m\n",
            "\u001b[2K     \u001b[90m━━━━━━━━━━━━━━━━━━━━━━━━━━━━━━━━━━━━━━\u001b[0m \u001b[32m268.8/268.8 kB\u001b[0m \u001b[31m32.6 MB/s\u001b[0m eta \u001b[36m0:00:00\u001b[0m\n",
            "\u001b[2K     \u001b[90m━━━━━━━━━━━━━━━━━━━━━━━━━━━━━━━━━━━━━━━━\u001b[0m \u001b[32m1.6/1.6 MB\u001b[0m \u001b[31m81.3 MB/s\u001b[0m eta \u001b[36m0:00:00\u001b[0m\n",
            "\u001b[?25hMounted at /content/gdrive\n"
          ]
        }
      ]
    },
    {
      "cell_type": "code",
      "execution_count": 50,
      "metadata": {
        "id": "nuPAbumf4SUi"
      },
      "outputs": [],
      "source": [
        "from fastai.vision.all import *\n",
        "from fastai.vision.widgets import *\n",
        "\n",
        "path = untar_data(URLs.PETS)/'images'\n",
        "def is_dog(x): return x[0].islower()"
      ]
    },
    {
      "cell_type": "code",
      "source": [
        "learn_inf = load_learner('/content/gdrive/MyDrive/model.pkl')\n",
        "btn_upload = widgets.FileUpload()\n",
        "out_pl = widgets.Output()\n",
        "lbl_pred_1 = widgets.Label()\n",
        "lbl_pred_2 = widgets.Label()"
      ],
      "metadata": {
        "id": "WzwSxZES5Ncy"
      },
      "execution_count": 51,
      "outputs": []
    },
    {
      "cell_type": "code",
      "source": [
        "def on_click(change):\n",
        "    img = PILImage.create(btn_upload.data[-1])\n",
        "    out_pl.clear_output()\n",
        "    with out_pl: display(img.to_thumb(128,128))\n",
        "    is_dog,_,probs = learn_inf.predict(img)\n",
        "    if str(is_dog) == 'True': \n",
        "      resposta = \"cachorro\"\n",
        "      probabilidade = probs[1].item() * 100\n",
        "\n",
        "    else: \n",
        "      resposta = \"gato\"\n",
        "      probabilidade = 100 - (probs[1].item()*100)\n",
        "\n",
        "    lbl_pred_1.value = (f\"É um: {resposta}.\") \n",
        "    lbl_pred_2.value = (f\"A chance de ser um {resposta} é: {probabilidade:.2f}%\")\n"
      ],
      "metadata": {
        "id": "Cxm68a1o6IND"
      },
      "execution_count": 55,
      "outputs": []
    },
    {
      "cell_type": "code",
      "source": [
        "btn_upload.observe(on_click, names=['data'])"
      ],
      "metadata": {
        "id": "AUDvNPHO8OId"
      },
      "execution_count": 56,
      "outputs": []
    },
    {
      "cell_type": "code",
      "source": [
        "display(VBox([widgets.Label('Selecione seu pet!'), btn_upload, out_pl, lbl_pred_1, lbl_pred_2]))"
      ],
      "metadata": {
        "colab": {
          "base_uri": "https://localhost:8080/",
          "height": 230,
          "referenced_widgets": [
            "c1477b9ed4014d1ea14dc9d97056069d",
            "609d8e96efd14b90aae575185b2439e7",
            "1932edaa4c1541768601bc6d659b4087",
            "b1fb344d7503460985006157115fd8ef",
            "b348b70ddd5d40ecb36017aaede4a9d2",
            "7b5247e127384bf780819421ee5e5e48",
            "fcd5550c344847f79d18389c07136506",
            "b36ee1a14991468ba3cea9c52a59814c",
            "223f62d18a14462eb66db9884ac8d6fd",
            "72d42deabab641d6bb33fe1aa8a30bbc",
            "e37fb820dc4340a3ba3d3135b24846e4",
            "2ddc361b34e547c9b31e0040201146f9",
            "681b9d1893db48ea996fdff8b21ddf12",
            "df7598abc2644083b8e03a6e0180d78d",
            "282277672bc446afab9c0d916a817649",
            "d6d496432f0144518c07da32bea160cf"
          ]
        },
        "id": "r7CaEvd78RnZ",
        "outputId": "dee4c3d6-b312-4ae8-d904-4a362660c715"
      },
      "execution_count": 57,
      "outputs": [
        {
          "output_type": "display_data",
          "data": {
            "text/plain": [
              "VBox(children=(Label(value='Selecione seu pet!'), FileUpload(value={'cat_test_ingles.jpg': {'metadata': {'name…"
            ],
            "application/vnd.jupyter.widget-view+json": {
              "version_major": 2,
              "version_minor": 0,
              "model_id": "c1477b9ed4014d1ea14dc9d97056069d"
            }
          },
          "metadata": {}
        },
        {
          "output_type": "display_data",
          "data": {
            "text/plain": [
              "<IPython.core.display.HTML object>"
            ],
            "text/html": [
              "\n",
              "<style>\n",
              "    /* Turns off some styling */\n",
              "    progress {\n",
              "        /* gets rid of default border in Firefox and Opera. */\n",
              "        border: none;\n",
              "        /* Needs to be in here for Safari polyfill so background images work as expected. */\n",
              "        background-size: auto;\n",
              "    }\n",
              "    progress:not([value]), progress:not([value])::-webkit-progress-bar {\n",
              "        background: repeating-linear-gradient(45deg, #7e7e7e, #7e7e7e 10px, #5c5c5c 10px, #5c5c5c 20px);\n",
              "    }\n",
              "    .progress-bar-interrupted, .progress-bar-interrupted::-webkit-progress-bar {\n",
              "        background: #F44336;\n",
              "    }\n",
              "</style>\n"
            ]
          },
          "metadata": {}
        },
        {
          "output_type": "display_data",
          "data": {
            "text/plain": [
              "<IPython.core.display.HTML object>"
            ],
            "text/html": []
          },
          "metadata": {}
        },
        {
          "output_type": "display_data",
          "data": {
            "text/plain": [
              "<IPython.core.display.HTML object>"
            ],
            "text/html": [
              "\n",
              "<style>\n",
              "    /* Turns off some styling */\n",
              "    progress {\n",
              "        /* gets rid of default border in Firefox and Opera. */\n",
              "        border: none;\n",
              "        /* Needs to be in here for Safari polyfill so background images work as expected. */\n",
              "        background-size: auto;\n",
              "    }\n",
              "    progress:not([value]), progress:not([value])::-webkit-progress-bar {\n",
              "        background: repeating-linear-gradient(45deg, #7e7e7e, #7e7e7e 10px, #5c5c5c 10px, #5c5c5c 20px);\n",
              "    }\n",
              "    .progress-bar-interrupted, .progress-bar-interrupted::-webkit-progress-bar {\n",
              "        background: #F44336;\n",
              "    }\n",
              "</style>\n"
            ]
          },
          "metadata": {}
        },
        {
          "output_type": "display_data",
          "data": {
            "text/plain": [
              "<IPython.core.display.HTML object>"
            ],
            "text/html": []
          },
          "metadata": {}
        }
      ]
    }
  ]
}